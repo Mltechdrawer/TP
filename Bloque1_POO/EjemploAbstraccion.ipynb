{
 "cells": [
  {
   "cell_type": "code",
   "execution_count": null,
   "id": "410637e1",
   "metadata": {
    "vscode": {
     "languageId": "plaintext"
    }
   },
   "outputs": [],
   "source": [
    "// Ejemplo de abstracción en Java\n",
    "\n",
    "abstract class Animal {\n",
    "    String nombre;\n",
    "    Animal(String nombre) { this.nombre = nombre; }\n",
    "    abstract void hacerSonido();\n",
    "    void dormir() { System.out.println(nombre + \" está durmiendo...\"); }\n",
    "}\n",
    "\n",
    "class Perro extends Animal {\n",
    "    Perro(String nombre) { super(nombre); }\n",
    "    void hacerSonido() { System.out.println(nombre + \" dice: ¡Guau!\"); }\n",
    "}\n",
    "\n",
    "class Gato extends Animal {\n",
    "    Gato(String nombre) { super(nombre); }\n",
    "    void hacerSonido() { System.out.println(nombre + \" dice: ¡Miau!\"); }\n",
    "}\n",
    "\n",
    "Animal perro = new Perro(\"Firulais\");\n",
    "Animal gato = new Gato(\"Misu\");\n",
    "\n",
    "perro.hacerSonido();\n",
    "perro.dormir();\n",
    "gato.hacerSonido();\n",
    "gato.dormir();\n"
   ]
  }
 ],
 "metadata": {
  "language_info": {
   "name": "python"
  }
 },
 "nbformat": 4,
 "nbformat_minor": 5
}
